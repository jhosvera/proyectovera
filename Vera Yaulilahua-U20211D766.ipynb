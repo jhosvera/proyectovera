{
  "cells": [
    {
      "cell_type": "markdown",
      "metadata": {},
      "source": [
        "# Data Science Tools Ecosystem"
      ]
    },
    {
      "cell_type": "markdown",
      "metadata": {},
      "source": [
        "# In this notebook, Data Science Tools and Ecosystem are summarized"
      ]
    },
    {
      "cell_type": "markdown",
      "metadata": {},
      "source": [
        "## Some of the popular languages that Data Scientists use are:\n",
       "1. Python\n",
       "2. R\n",
       "3. SQL\n",
       "4. Scala\n",    
       "5. Java\n",    
       "6. C++\n",    
       "7. Julia\n",    
       "8. Javascript\n",   
       "9. Php\n",   
       "10. Go\n",   
       "11. Ruby\n",   
       "12. Visual Basic\n"   
      ]
    },
{
  "cell_type": "markdown",
  "metadata": {},
  "source": [
    "Some of the commonly used libraries used by Data Scientists include:\n\n",
    "1. Pandas\n",
    "2. Numpy\n",
    "3. Matplotlib\n",
    "4. Seaborn\n",
    "5. Scikit-learn\n",
    "6. Keras\n",
    "7. TensorFlow\n",
    "8. PyTorch\n",
    "9. Apache Spark\n",
    "10. Vegas\n",
    "11. Big DL\n",
    "12. Ggplot2\n"
  ]
},
{
  "cell_type": "markdown",
  "metadata": {},
  "source": [
    "## Data Science Tools\n",
    "---\n",
    "- Anaconda\n",
    "- Jupyter Notebooks\n",
    "- R Studio\n",
    "- Spyder\n",
    "- Zeppelin\n"
  ]
},
{
      "cell_type": "markdown",
      "metadata": {},
      "source": [
        "## Below are a few examples of evaluating arithmetic expressions in Python\n",
        "- Suma: `a + b`\n",
        "- Resta: `a - b`\n",
        "- Multiplicación: `a * b`\n",
        "- División: `a / b`"
    ]
  },
]
},
