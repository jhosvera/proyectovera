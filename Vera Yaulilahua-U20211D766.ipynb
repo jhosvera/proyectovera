{
  "cells": [
    {
      "cell_type": "markdown",
      "metadata": {},
      "source": [
        "# Data Science Tools Ecosystem"
      ]
    },
    {
      "cell_type": "markdown",
      "metadata": {},
      "source": [
        "# In this notebook, Data Science Tools and Ecosystem are summarized"
      ]
    },
    {
      "cell_type": "markdown",
      "metadata": {},
      "source": [
        "## Some of the popular languages that Data Scientists use are:\n",
       "1. Python\n",
       "2. R\n",
       "3. SQL\n",
       "4. Scala\n",    
       "5. Java\n",    
       "6. C++\n",    
       "7. Julia\n",    
       "8. Javascript\n",   
       "9. Php\n",   
       "10. Go\n",   
       "11. Ruby\n",   
       "12. Visual Basic\n"   
      ]
    },
{
  "cell_type": "markdown",
  "metadata": {},
  "source": [
    "Some of the commonly used libraries used by Data Scientists include:\n\n",
    "1. Pandas\n",
    "2. Numpy\n",
    "3. Matplotlib\n",
    "4. Seaborn\n",
    "5. Scikit-learn\n",
    "6. Keras\n",
    "7. TensorFlow\n",
    "8. PyTorch\n",
    "9. Apache Spark\n",
    "10. Vegas\n",
    "11. Big DL\n",
    "12. Ggplot2\n"
  ]
},
{
  "cell_type": "markdown",
  "metadata": {},
  "source": [
    "## Data Science Tools\n",
    "---\n",
    "- Anaconda\n",
    "- Jupyter Notebooks\n",
    "- R Studio\n",
    "- Spyder\n",
    "- Zeppelin\n"
  ]
},
{
      "cell_type": "markdown",
      "metadata": {},
      "source": [
        "## Below are a few examples of evaluating arithmetic expressions in Python\n",
        "- Suma: `a + b`\n",
        "- Resta: `a - b`\n",
        "- Multiplicación: `a * b`\n",
        "- División: `a / b`"
      ]
    },
    {
      "cell_type": "code",
      "execution_count": 8,
      "metadata": {
        "trusted": true
      },
      "outputs": [
        {
          "data": {
            "text/plain": [
              "(15, 50)"
            ]
          },
          "execution_count": 8,
          "metadata": {},
          "output_type": "execute_result"
        }
      ],
      "source": [
        "a = 5\n",
        "b = 10\n",
        "suma = a + b\n",
        "producto = a * b\n",
        "suma, producto"
      ]
    },
    {
      "cell_type": "code",
      "execution_count": 7,
      "metadata": {
        "trusted": true
      },
      "outputs": [
        {
          "data": {
            "text/plain": [
              "2.0"
            ]
          },
          "execution_count": 7,
          "metadata": {},
          "output_type": "execute_result"
        }
      ],
      "source": [
        "def convertir_minutos_a_horas(minutos):\n",
        "    horas = minutos / 60\n",
        "    return horas\n",
        "\n",
        "convertir_minutos_a_horas(200)"
      ]
    },
    {
     {
}
 ],
      "source": [
        "objetivos = [\n",
        "    \"Introducir los conceptos básicos de ciencia de datos.\",\n",
        "    \"Demostrar el uso de herramientas y bibliotecas.\",\n",
        "    \"Ejecutar ejemplos prácticos de expresiones y conversiones.\"\n",
        "]\n",
        "\n",
        "for objetivo in objetivos:\n",
        "    print(objetivo)"
      ]
    },
    {
      "cell_type": "markdown",
      "metadata": {},
      "source": [
        "## Autor\n",
        "- Nombre: [Vera Yaulilahua, Jhoselyn Rosario]"
      ]
    }
  ],
  "metadata": {
    "kernelspec": {
      "display_name": "Python (Pyodide)",
      "language": "python",
      "name": "python"
    },
    "language_info": {
      "codemirror_mode": {
        "name": "python",
        "version": 3
      },
      "file_extension": ".py",
      "mimetype": "text/x-python",
      "name": "python",
      "nbconvert_exporter": "python",
      "pygments_lexer": "ipython3",
      "version": "3.8"
    }
  },
  "nbformat": 4,
  "nbformat_minor": 4
}
