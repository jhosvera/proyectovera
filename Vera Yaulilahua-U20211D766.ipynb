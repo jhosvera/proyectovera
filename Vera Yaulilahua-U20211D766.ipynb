{
  "cells": [
    {
      "cell_type": "markdown",
      "metadata": {},
      "source": [
        "# Data Science Tools Ecosystem"
      ]
    },
    {
      "cell_type": "markdown",
      "metadata": {},
      "source": [
        "# In this notebook, Data Science Tools and Ecosystem are summarized"
      ]
    },
    {
      "cell_type": "markdown",
      "metadata": {},
      "source": [
        "## Lenguajes de Ciencia de Datos\n",
       "1. Python\n",
       "2. R\n",
       "3. SQL"
       "4. Scala"    
       "5. Java"    
       "6. C++"    
       "7. Julia"    
       "8. Javascript"   
       "9. Php"   
       "10. Go"   
       "11. Ruby"   
       "12. Visual Basic"   
      ]
    },
    {
      "cell_type": "markdown",
      "metadata": {
        "scrolled": true
      },
      "source": [
        "## Herramientas de Ciencia de Datos\n",
        "| Herramienta  | Descripción                 |\n",
        "|--------------|-----------------------------|\n",
        "| Jupyter      | Entorno de desarrollo       |\n",
        "| GitHub        | Control de versiones         |\n",
        "| RStudio       | IDE para R                   |\n",
        "| Google Colab  | Cuadernos en la nube         |\n"
      ]
    },
    {
      "cell_type": "markdown",
      "metadata": {},
      "source": [
        "## Expresiones Aritméticas\n",
        "- Suma: `a + b`\n",
        "- Resta: `a - b`\n",
        "- Multiplicación: `a * b`\n",
        "- División: `a / b`"
      ]
    },
    {
      "cell_type": "code",
      "execution_count": 8,
      "metadata": {
        "trusted": true
      },
      "outputs": [
        {
          "data": {
            "text/plain": [
              "(15, 50)"
            ]
          },
          "execution_count": 8,
          "metadata": {},
          "output_type": "execute_result"
        }
      ],
      "source": [
        "a = 5\n",
        "b = 10\n",
        "suma = a + b\n",
        "producto = a * b\n",
        "suma, producto"
      ]
    },
    {
      "cell_type": "code",
      "execution_count": 7,
      "metadata": {
        "trusted": true
      },
      "outputs": [
        {
          "data": {
            "text/plain": [
              "2.0"
            ]
          },
          "execution_count": 7,
          "metadata": {},
          "output_type": "execute_result"
        }
      ],
      "source": [
        "def convertir_minutos_a_horas(minutos):\n",
        "    horas = minutos / 60\n",
        "    return horas\n",
        "\n",
        "convertir_minutos_a_horas(120)"
      ]
    },
    {
      "cell_type": "code",
      "execution_count": 6,
      "metadata": {
        "trusted": true
      },
      "outputs": [
        {
          "name": "stdout",
          "output_type": "stream",
          "text": [
            "Introducir los conceptos básicos de ciencia de datos.\n",
            "Demostrar el uso de herramientas y bibliotecas.\n",
            "Ejecutar ejemplos prácticos de expresiones y conversiones.\n"
          ]
        }
      ],
      "source": [
        "objetivos = [\n",
        "    \"Introducir los conceptos básicos de ciencia de datos.\",\n",
        "    \"Demostrar el uso de herramientas y bibliotecas.\",\n",
        "    \"Ejecutar ejemplos prácticos de expresiones y conversiones.\"\n",
        "]\n",
        "\n",
        "for objetivo in objetivos:\n",
        "    print(objetivo)"
      ]
    },
    {
      "cell_type": "markdown",
      "metadata": {},
      "source": [
        "## Autor\n",
        "- Nombre: [Vera Yaulilahua, Jhoselyn Rosario]"
      ]
    }
  ],
  "metadata": {
    "kernelspec": {
      "display_name": "Python (Pyodide)",
      "language": "python",
      "name": "python"
    },
    "language_info": {
      "codemirror_mode": {
        "name": "python",
        "version": 3
      },
      "file_extension": ".py",
      "mimetype": "text/x-python",
      "name": "python",
      "nbconvert_exporter": "python",
      "pygments_lexer": "ipython3",
      "version": "3.8"
    }
  },
  "nbformat": 4,
  "nbformat_minor": 4
}
